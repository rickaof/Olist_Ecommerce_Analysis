{
 "cells": [
  {
   "cell_type": "markdown",
   "id": "861d6603",
   "metadata": {},
   "source": [
    "# 1. Introduction\n",
    "\n",
    "In the competitive landscape of e-commerce logistics, timely delivery is a key factor for customer satisfaction and operational efficiency. This project explores historical delivery data from the Olist marketplace, a large Brazilian e-commerce platform, to predict whether an order will be delivered late.\n",
    "\n",
    "Predicting delivery delays enables proactive actions such as customer communication, internal process optimization, and carrier prioritization. It also supports strategic decisions regarding logistics partnerships and resource allocation.\n",
    "\n",
    "This notebook documents the entire end-to-end process, from data cleaning and exploratory analysis to feature engineering and machine learning modeling, aiming to build a robust predictive system for delivery delays.\n"
   ]
  },
  {
   "cell_type": "markdown",
   "id": "1716f671",
   "metadata": {},
   "source": [
    "# 2. Project Objectives\n",
    "\n",
    "This project aims to:\n",
    "\n",
    "- Consolidate and preprocess data from multiple sources (orders, items, customers, sellers, products, geolocation, payments).\n",
    "- Perform a thorough exploratory data analysis (EDA) to understand delivery patterns.\n",
    "- Engineer new features relevant to logistics and geography.\n",
    "- Build and evaluate machine learning models to predict whether an order will be delivered later than the estimated date.\n",
    "- Interpret the model's behavior using explainable AI tools to derive actionable insights.\n"
   ]
  },
  {
   "cell_type": "markdown",
   "id": "70c041a1",
   "metadata": {},
   "source": [
    "# 3. Data treatment"
   ]
  },
  {
   "cell_type": "markdown",
   "id": "d1e19b91",
   "metadata": {},
   "source": [
    "## Data Loading"
   ]
  },
  {
   "cell_type": "code",
   "execution_count": 1,
   "id": "fa334fc9",
   "metadata": {},
   "outputs": [],
   "source": [
    "# import libraries\n",
    "import pandas as pd\n",
    "import numpy as np\n",
    "import os, sys\n",
    "import matplotlib.pyplot as plt\n",
    "import seaborn as sns\n",
    "import math\n",
    "from pandas.io.parquet import to_parquet"
   ]
  },
  {
   "cell_type": "code",
   "execution_count": 2,
   "id": "eecab661",
   "metadata": {},
   "outputs": [],
   "source": [
    "# Define path to src folder\n",
    "sys.path.append(os.path.abspath(os.path.join(os.getcwd(), \"..\", \"src\")))"
   ]
  },
  {
   "cell_type": "code",
   "execution_count": 3,
   "id": "ca2061ab",
   "metadata": {},
   "outputs": [],
   "source": [
    "# Import data_loader \n",
    "from data_loader import load_olist_datasets"
   ]
  },
  {
   "cell_type": "code",
   "execution_count": 4,
   "id": "8f5b05fd",
   "metadata": {},
   "outputs": [],
   "source": [
    "# Data loading\n",
    "dfs = load_olist_datasets(data_folder=\"data/raw\")"
   ]
  },
  {
   "cell_type": "markdown",
   "id": "88923a8b",
   "metadata": {},
   "source": [
    "## Data Cleaning\n",
    "\n",
    "### Missing Values and Duplicates\n",
    "\n",
    "Before any modeling, it's essential to ensure data consistency and completeness. The following scan checks for duplicated rows and missing values in each table of the Olist dataset.\n"
   ]
  },
  {
   "cell_type": "code",
   "execution_count": 5,
   "id": "269c3290",
   "metadata": {},
   "outputs": [],
   "source": [
    "# import data cleaning\n",
    "sys.path.append(os.path.abspath(os.path.join(os.getcwd(), \"..\", \"src\")))\n",
    "from data_cleaning import check_missing_and_duplicates"
   ]
  },
  {
   "cell_type": "code",
   "execution_count": 6,
   "id": "f5c977eb",
   "metadata": {},
   "outputs": [
    {
     "name": "stdout",
     "output_type": "stream",
     "text": [
      "--- customer ---\n",
      "Shape: (99441, 5)\n",
      "Duplicated rows: 0\n",
      "Missing values:\n",
      "customer_id                 0\n",
      "customer_unique_id          0\n",
      "customer_zip_code_prefix    0\n",
      "customer_city               0\n",
      "customer_state              0\n",
      "dtype: int64\n",
      "\n",
      "--- geolocation ---\n",
      "Shape: (1000163, 5)\n",
      "Duplicated rows: 261831\n",
      "Missing values:\n",
      "geolocation_zip_code_prefix    0\n",
      "geolocation_lat                0\n",
      "geolocation_lng                0\n",
      "geolocation_city               0\n",
      "geolocation_state              0\n",
      "dtype: int64\n",
      "\n",
      "--- orders ---\n",
      "Shape: (99441, 8)\n",
      "Duplicated rows: 0\n",
      "Missing values:\n",
      "order_id                            0\n",
      "customer_id                         0\n",
      "order_status                        0\n",
      "order_purchase_timestamp            0\n",
      "order_approved_at                 160\n",
      "order_delivered_carrier_date     1783\n",
      "order_delivered_customer_date    2965\n",
      "order_estimated_delivery_date       0\n",
      "dtype: int64\n",
      "\n",
      "--- order_items ---\n",
      "Shape: (112650, 7)\n",
      "Duplicated rows: 0\n",
      "Missing values:\n",
      "order_id               0\n",
      "order_item_id          0\n",
      "product_id             0\n",
      "seller_id              0\n",
      "shipping_limit_date    0\n",
      "price                  0\n",
      "freight_value          0\n",
      "dtype: int64\n",
      "\n",
      "--- payments ---\n",
      "Shape: (103886, 5)\n",
      "Duplicated rows: 0\n",
      "Missing values:\n",
      "order_id                0\n",
      "payment_sequential      0\n",
      "payment_type            0\n",
      "payment_installments    0\n",
      "payment_value           0\n",
      "dtype: int64\n",
      "\n",
      "--- products ---\n",
      "Shape: (32951, 9)\n",
      "Duplicated rows: 0\n",
      "Missing values:\n",
      "product_id                      0\n",
      "product_category_name         610\n",
      "product_name_lenght           610\n",
      "product_description_lenght    610\n",
      "product_photos_qty            610\n",
      "product_weight_g                2\n",
      "product_length_cm               2\n",
      "product_height_cm               2\n",
      "product_width_cm                2\n",
      "dtype: int64\n",
      "\n",
      "--- sellers ---\n",
      "Shape: (3095, 4)\n",
      "Duplicated rows: 0\n",
      "Missing values:\n",
      "seller_id                 0\n",
      "seller_zip_code_prefix    0\n",
      "seller_city               0\n",
      "seller_state              0\n",
      "dtype: int64\n",
      "\n"
     ]
    }
   ],
   "source": [
    "# Checking shape, duplicated rows and missing values.\n",
    "check_missing_and_duplicates(dfs)"
   ]
  },
  {
   "cell_type": "markdown",
   "id": "1df768ef",
   "metadata": {},
   "source": [
    "### Orders Dataframe: treatment and Type Conversion"
   ]
  },
  {
   "cell_type": "code",
   "execution_count": 7,
   "id": "e41db7c7",
   "metadata": {},
   "outputs": [],
   "source": [
    "orders = dfs[\"orders\"]  # Extract the 'orders' DataFrame"
   ]
  },
  {
   "cell_type": "markdown",
   "id": "dd3403eb",
   "metadata": {},
   "source": [
    "#### Null and Missing values treatment"
   ]
  },
  {
   "cell_type": "code",
   "execution_count": 8,
   "id": "ce8bc2e7",
   "metadata": {},
   "outputs": [
    {
     "name": "stdout",
     "output_type": "stream",
     "text": [
      "order_id                            0\n",
      "customer_id                         0\n",
      "order_status                        0\n",
      "order_purchase_timestamp            0\n",
      "order_approved_at                 160\n",
      "order_delivered_carrier_date     1783\n",
      "order_delivered_customer_date    2965\n",
      "order_estimated_delivery_date       0\n",
      "dtype: int64\n"
     ]
    }
   ],
   "source": [
    "# Identifying null or missing values.\n",
    "print(orders.isnull().sum())"
   ]
  },
  {
   "cell_type": "markdown",
   "id": "8d58c7a7",
   "metadata": {},
   "source": [
    "There are null numerical values in the order approval date column, indicating that the orders were not approved. The shipping date column also contains null values, indicating that the order was not shipped. Lastly, the delivery date column also contains null values, indicating that the order was not delivered. The first step will be check the order status, because it's just possible to verify if the order will be late, when the order status is delivered ou shipped."
   ]
  },
  {
   "cell_type": "code",
   "execution_count": 9,
   "id": "0211a7db",
   "metadata": {},
   "outputs": [
    {
     "name": "stdout",
     "output_type": "stream",
     "text": [
      "  order_status  proportion\n",
      "0    delivered    0.970203\n",
      "1      shipped    0.011132\n",
      "2     canceled    0.006285\n",
      "3  unavailable    0.006124\n",
      "4     invoiced    0.003158\n",
      "5   processing    0.003027\n",
      "6      created    0.000050\n",
      "7     approved    0.000020\n"
     ]
    }
   ],
   "source": [
    "# checking the proportiond by order status\n",
    "status_count = orders['order_status'].value_counts(normalize=True).reset_index()\n",
    "status_count.columns = ['order_status', 'proportion']\n",
    "print(status_count)"
   ]
  },
  {
   "cell_type": "markdown",
   "id": "75411afe",
   "metadata": {},
   "source": [
    "Filtering Orders by Status\n",
    "\n",
    "In the Olist dataset, the `order_status` column represents the current state of each order. However, not all status are relevant for delivery performance analysis.\n",
    "\n",
    "Below is the distribution of `order_status` in the dataset:\n",
    "\n",
    "- **delivered**: 97.0%\n",
    "- **shipped**: 1.1%\n",
    "- **canceled**, **unavailable**, **invoiced**, **processing**, **created**, and **approved**: together less than 2%\n",
    "\n",
    "For this project, we are focusing on evaluating delivery performance and understanding delays. Therefore, we filtered the dataset to include only:\n",
    "\n",
    "- `delivered`: orders that were completed and successfully delivered to the customer.\n",
    "- `shipped`: orders that were dispatched but not yet confirmed as delivered (can be useful for future delivery predictions).\n",
    "\n",
    "All other statuses were excluded because they:\n",
    "- Do not reach the delivery phase.\n",
    "- Would introduce noise into delivery time calculations.\n",
    "- Do not contain a valid delivery timestamp.\n",
    "\n",
    "This filtering step ensures that we focus only on relevant records for our objective of analyzing or modeling delivery behavior.\n"
   ]
  },
  {
   "cell_type": "code",
   "execution_count": 10,
   "id": "0e7a15cd",
   "metadata": {},
   "outputs": [],
   "source": [
    "# Keep only orders that were delivered or shipped\n",
    "orders = orders[orders['order_status'].isin(['delivered', 'shipped'])].copy()"
   ]
  },
  {
   "cell_type": "code",
   "execution_count": 11,
   "id": "8dc2be73",
   "metadata": {},
   "outputs": [
    {
     "name": "stdout",
     "output_type": "stream",
     "text": [
      "order_id                            0\n",
      "customer_id                         0\n",
      "order_status                        0\n",
      "order_purchase_timestamp            0\n",
      "order_approved_at                  14\n",
      "order_delivered_carrier_date        2\n",
      "order_delivered_customer_date    1115\n",
      "order_estimated_delivery_date       0\n",
      "dtype: int64\n"
     ]
    }
   ],
   "source": [
    "# Identifying null or missing values.\n",
    "print(orders.isnull().sum())"
   ]
  },
  {
   "cell_type": "markdown",
   "id": "dbaf75f5",
   "metadata": {},
   "source": [
    "Some orders have missing values in `order_delivered_customer_date`. This is expected for `shipped` orders that have not yet been delivered.\n",
    "\n",
    "We chose **not to drop** or impute these values at this stage, because:\n",
    "\n",
    "- They represent valuable information about current logistics status.\n",
    "- They can help identify potentially late orders in later steps.\n",
    "- This decision aligns with a careful, iterative data science workflow.\n"
   ]
  },
  {
   "cell_type": "code",
   "execution_count": 12,
   "id": "72fae833",
   "metadata": {},
   "outputs": [
    {
     "name": "stdout",
     "output_type": "stream",
     "text": [
      "order_id                         object\n",
      "customer_id                      object\n",
      "order_status                     object\n",
      "order_purchase_timestamp         object\n",
      "order_approved_at                object\n",
      "order_delivered_carrier_date     object\n",
      "order_delivered_customer_date    object\n",
      "order_estimated_delivery_date    object\n",
      "dtype: object\n"
     ]
    }
   ],
   "source": [
    "# Checking column data types\n",
    "print(orders.dtypes)"
   ]
  },
  {
   "cell_type": "markdown",
   "id": "0021638d",
   "metadata": {},
   "source": [
    "#### Columns type conversion\n"
   ]
  },
  {
   "cell_type": "markdown",
   "id": "9f1d8739",
   "metadata": {},
   "source": [
    "Converting date columns from object to datetime and \"order status\" column from object to category"
   ]
  },
  {
   "cell_type": "code",
   "execution_count": 13,
   "id": "f75fec7b",
   "metadata": {},
   "outputs": [
    {
     "name": "stdout",
     "output_type": "stream",
     "text": [
      "order_id                                 object\n",
      "customer_id                              object\n",
      "order_status                           category\n",
      "order_purchase_timestamp         datetime64[ns]\n",
      "order_approved_at                datetime64[ns]\n",
      "order_delivered_carrier_date     datetime64[ns]\n",
      "order_delivered_customer_date    datetime64[ns]\n",
      "order_estimated_delivery_date    datetime64[ns]\n",
      "dtype: object\n"
     ]
    }
   ],
   "source": [
    "# import data cleaning\n",
    "sys.path.append(os.path.abspath(os.path.join(os.getcwd(), \"..\", \"src\")))\n",
    "from data_cleaning import order_type_conversion\n",
    "\n",
    "orders = order_type_conversion(orders)\n",
    "print(orders.dtypes)\n"
   ]
  },
  {
   "cell_type": "markdown",
   "id": "315a98e3",
   "metadata": {},
   "source": [
    "### Orders Items Dataframe: treatment and Type Conversion"
   ]
  },
  {
   "cell_type": "code",
   "execution_count": 14,
   "id": "488dd716",
   "metadata": {},
   "outputs": [],
   "source": [
    "order_items = dfs[\"order_items\"]  # Extract the 'order_items' DataFrame"
   ]
  },
  {
   "cell_type": "markdown",
   "id": "21af44da",
   "metadata": {},
   "source": [
    "There are no null or missing values in the dataframe."
   ]
  },
  {
   "cell_type": "markdown",
   "id": "9df8deb9",
   "metadata": {},
   "source": [
    "#### Columns type conversion"
   ]
  },
  {
   "cell_type": "code",
   "execution_count": 15,
   "id": "7036106d",
   "metadata": {},
   "outputs": [
    {
     "name": "stdout",
     "output_type": "stream",
     "text": [
      "order_id                object\n",
      "order_item_id            int64\n",
      "product_id              object\n",
      "seller_id               object\n",
      "shipping_limit_date     object\n",
      "price                  float64\n",
      "freight_value          float64\n",
      "dtype: object\n"
     ]
    }
   ],
   "source": [
    "# Checking column data types\n",
    "print(order_items.dtypes)"
   ]
  },
  {
   "cell_type": "markdown",
   "id": "74d82841",
   "metadata": {},
   "source": [
    "Converting date columns from object to datetime"
   ]
  },
  {
   "cell_type": "code",
   "execution_count": 16,
   "id": "e0cd5115",
   "metadata": {},
   "outputs": [],
   "source": [
    "order_items[\"shipping_limit_date\"] = pd.to_datetime(\n",
    "    order_items[\"shipping_limit_date\"], errors=\"coerce\")"
   ]
  },
  {
   "cell_type": "markdown",
   "id": "6af5edda",
   "metadata": {},
   "source": [
    "### Customers Dataframe: treatment and Type Conversion"
   ]
  },
  {
   "cell_type": "code",
   "execution_count": 17,
   "id": "d09bbb0b",
   "metadata": {},
   "outputs": [],
   "source": [
    "customer = dfs[\"customer\"]  # Extract the 'customers' DataFrame"
   ]
  },
  {
   "cell_type": "markdown",
   "id": "8b2b07db",
   "metadata": {},
   "source": [
    "There are no null or missing values in the dataframe."
   ]
  },
  {
   "cell_type": "markdown",
   "id": "f5350e8b",
   "metadata": {},
   "source": [
    "#### Columns type conversion"
   ]
  },
  {
   "cell_type": "code",
   "execution_count": 18,
   "id": "a5eab4b8",
   "metadata": {},
   "outputs": [
    {
     "name": "stdout",
     "output_type": "stream",
     "text": [
      "customer_id                 object\n",
      "customer_unique_id          object\n",
      "customer_zip_code_prefix     int64\n",
      "customer_city               object\n",
      "customer_state              object\n",
      "dtype: object\n"
     ]
    }
   ],
   "source": [
    "# Checking column data types\n",
    "print(customer.dtypes)"
   ]
  },
  {
   "cell_type": "markdown",
   "id": "b22f5acd",
   "metadata": {},
   "source": [
    "The column data types are correct."
   ]
  },
  {
   "cell_type": "markdown",
   "id": "327b9320",
   "metadata": {},
   "source": [
    "### Products Dataframe: treatment and Type Conversion"
   ]
  },
  {
   "cell_type": "code",
   "execution_count": 19,
   "id": "768b889d",
   "metadata": {},
   "outputs": [],
   "source": [
    "products = dfs[\"products\"]  # Extract the 'products' DataFrame"
   ]
  },
  {
   "cell_type": "markdown",
   "id": "cd118b51",
   "metadata": {},
   "source": [
    "#### Null and Missing values treatment"
   ]
  },
  {
   "cell_type": "code",
   "execution_count": 20,
   "id": "ba2c5318",
   "metadata": {},
   "outputs": [
    {
     "name": "stdout",
     "output_type": "stream",
     "text": [
      "product_id                      0\n",
      "product_category_name         610\n",
      "product_name_lenght           610\n",
      "product_description_lenght    610\n",
      "product_photos_qty            610\n",
      "product_weight_g                2\n",
      "product_length_cm               2\n",
      "product_height_cm               2\n",
      "product_width_cm                2\n",
      "dtype: int64\n"
     ]
    }
   ],
   "source": [
    "# Identifying null or missing values.\n",
    "print(products.isnull().sum())"
   ]
  },
  {
   "cell_type": "code",
   "execution_count": 21,
   "id": "06409402",
   "metadata": {},
   "outputs": [
    {
     "name": "stdout",
     "output_type": "stream",
     "text": [
      "product_id                    0.00\n",
      "product_category_name         1.85\n",
      "product_name_lenght           1.85\n",
      "product_description_lenght    1.85\n",
      "product_photos_qty            1.85\n",
      "product_weight_g              0.01\n",
      "product_length_cm             0.01\n",
      "product_height_cm             0.01\n",
      "product_width_cm              0.01\n",
      "dtype: float64\n"
     ]
    }
   ],
   "source": [
    "# Checking null values proportion\n",
    "missing_info = products.isna().mean().round(4) * 100\n",
    "\n",
    "print(missing_info)"
   ]
  },
  {
   "cell_type": "markdown",
   "id": "de5fed09",
   "metadata": {},
   "source": [
    "Feature Selection – Dropping Non-Essential Columns\n",
    "\n",
    "We decided to drop the following columns from the `products` dataset:\n",
    "\n",
    "- `product_name_lenght`\n",
    "- `product_description_lenght`\n",
    "- `product_photos_qty`\n",
    "\n",
    "### Why?\n",
    "These features provide only metadata (e.g., character counts or image counts) rather than meaningful product characteristics. They are also highly correlated with missing or inconsistent data (610 missing values). \n",
    "\n",
    "Additionally, they are unlikely to contribute to our predictive model or analysis of delivery delays, which focus more on physical and logistical attributes such as product weight and dimensions.\n"
   ]
  },
  {
   "cell_type": "code",
   "execution_count": 22,
   "id": "49bf6f85",
   "metadata": {},
   "outputs": [],
   "source": [
    "# Dropping columns not relevant for delivery analysis\n",
    "products.drop(columns=[\n",
    "    'product_name_lenght', \n",
    "    'product_description_lenght', \n",
    "    'product_photos_qty'\n",
    "], inplace=True)\n"
   ]
  },
  {
   "cell_type": "markdown",
   "id": "33402ace",
   "metadata": {},
   "source": [
    "Null values were found in the product category name, which will be filled with \"Unknown\". Finally, two null values were found in the columns: weight, length, height, and width, these will be filled with the median."
   ]
  },
  {
   "cell_type": "code",
   "execution_count": 23,
   "id": "7c109f9a",
   "metadata": {},
   "outputs": [
    {
     "name": "stdout",
     "output_type": "stream",
     "text": [
      "product_id               0\n",
      "product_category_name    0\n",
      "product_weight_g         0\n",
      "product_length_cm        0\n",
      "product_height_cm        0\n",
      "product_width_cm         0\n",
      "dtype: int64\n"
     ]
    }
   ],
   "source": [
    "# Null and missing values treatment.\n",
    "sys.path.append(os.path.abspath(os.path.join(os.getcwd(), \"..\", \"src\")))\n",
    "from data_cleaning import products_treatment\n",
    "products_treatment(products)\n",
    "\n",
    "print(products.isnull().sum())"
   ]
  },
  {
   "cell_type": "markdown",
   "id": "0165b066",
   "metadata": {},
   "source": [
    "### Customers Dataframe: treatment and Type Conversion"
   ]
  },
  {
   "cell_type": "code",
   "execution_count": 24,
   "id": "8ab13bdc",
   "metadata": {},
   "outputs": [
    {
     "name": "stdout",
     "output_type": "stream",
     "text": [
      "customer_id                 object\n",
      "customer_unique_id          object\n",
      "customer_zip_code_prefix     int64\n",
      "customer_city               object\n",
      "customer_state              object\n",
      "dtype: object\n"
     ]
    }
   ],
   "source": [
    "# Checking column data types\n",
    "print(customer.dtypes)"
   ]
  },
  {
   "cell_type": "markdown",
   "id": "ba531290",
   "metadata": {},
   "source": [
    "The column data types are correct."
   ]
  },
  {
   "cell_type": "markdown",
   "id": "62f2ebe2",
   "metadata": {},
   "source": [
    "### Sellers Dataframe: treatment and Type Conversion"
   ]
  },
  {
   "cell_type": "code",
   "execution_count": 25,
   "id": "22f87c31",
   "metadata": {},
   "outputs": [],
   "source": [
    "sellers = dfs[\"sellers\"]  # Extract the 'sellers' DataFrame"
   ]
  },
  {
   "cell_type": "markdown",
   "id": "8022f12d",
   "metadata": {},
   "source": [
    "There are no null or missing values in the dataframe."
   ]
  },
  {
   "cell_type": "markdown",
   "id": "e4ac3d31",
   "metadata": {},
   "source": [
    "#### Columns type conversion"
   ]
  },
  {
   "cell_type": "code",
   "execution_count": 26,
   "id": "27ed8e1a",
   "metadata": {},
   "outputs": [
    {
     "name": "stdout",
     "output_type": "stream",
     "text": [
      "seller_id                 object\n",
      "seller_zip_code_prefix     int64\n",
      "seller_city               object\n",
      "seller_state              object\n",
      "dtype: object\n"
     ]
    }
   ],
   "source": [
    "# Checking column data types\n",
    "print(sellers.dtypes)"
   ]
  },
  {
   "cell_type": "markdown",
   "id": "960c5158",
   "metadata": {},
   "source": [
    "The column data types are correct."
   ]
  },
  {
   "cell_type": "markdown",
   "id": "6fcc1f9c",
   "metadata": {},
   "source": [
    "### Payments Dataframe: treatment and Type Conversion"
   ]
  },
  {
   "cell_type": "code",
   "execution_count": 27,
   "id": "383deb1a",
   "metadata": {},
   "outputs": [],
   "source": [
    "payments = dfs[\"payments\"]  # Extract the 'payments' DataFrame"
   ]
  },
  {
   "cell_type": "markdown",
   "id": "a9123a83",
   "metadata": {},
   "source": [
    "There are no null or missing values in the dataframe."
   ]
  },
  {
   "cell_type": "markdown",
   "id": "4c12bda1",
   "metadata": {},
   "source": [
    "#### Columns type conversion"
   ]
  },
  {
   "cell_type": "code",
   "execution_count": 28,
   "id": "ea882b1b",
   "metadata": {},
   "outputs": [
    {
     "name": "stdout",
     "output_type": "stream",
     "text": [
      "order_id                 object\n",
      "payment_sequential        int64\n",
      "payment_type             object\n",
      "payment_installments      int64\n",
      "payment_value           float64\n",
      "dtype: object\n"
     ]
    }
   ],
   "source": [
    "# Checking column data types\n",
    "print(payments.dtypes)"
   ]
  },
  {
   "cell_type": "markdown",
   "id": "e5053e71",
   "metadata": {},
   "source": [
    "Converting 'payment_type' column from object to category."
   ]
  },
  {
   "cell_type": "code",
   "execution_count": 29,
   "id": "4eb2d1d8",
   "metadata": {},
   "outputs": [],
   "source": [
    "payments[\"payment_type\"] = payments[\"payment_type\"].astype(\"category\")"
   ]
  },
  {
   "cell_type": "markdown",
   "id": "9985fdb8",
   "metadata": {},
   "source": [
    "### Geolocation: treatment and Type Conversion"
   ]
  },
  {
   "cell_type": "code",
   "execution_count": 30,
   "id": "8df77f61",
   "metadata": {},
   "outputs": [],
   "source": [
    "geolocation = dfs[\"geolocation\"]  # Extract the 'geolocation' DataFrame"
   ]
  },
  {
   "cell_type": "markdown",
   "id": "ab5c891d",
   "metadata": {},
   "source": [
    "There are no null or missing values in the dataframe."
   ]
  },
  {
   "cell_type": "markdown",
   "id": "68f4d01d",
   "metadata": {},
   "source": [
    "#### Columns type conversion"
   ]
  },
  {
   "cell_type": "code",
   "execution_count": 31,
   "id": "628d42c4",
   "metadata": {},
   "outputs": [
    {
     "name": "stdout",
     "output_type": "stream",
     "text": [
      "geolocation_zip_code_prefix      int64\n",
      "geolocation_lat                float64\n",
      "geolocation_lng                float64\n",
      "geolocation_city                object\n",
      "geolocation_state               object\n",
      "dtype: object\n"
     ]
    }
   ],
   "source": [
    "# Checking column data types\n",
    "print(geolocation.dtypes)"
   ]
  },
  {
   "cell_type": "markdown",
   "id": "7af2277a",
   "metadata": {},
   "source": [
    "The column data types are correct."
   ]
  },
  {
   "cell_type": "markdown",
   "id": "a81ed0b7",
   "metadata": {},
   "source": [
    "## Pré processing - Checking data consistency"
   ]
  },
  {
   "cell_type": "code",
   "execution_count": 32,
   "id": "07e5df50",
   "metadata": {},
   "outputs": [
    {
     "data": {
      "image/png": "[encoded data removed]",
      "text/plain": [
       "<Figure size 1000x500 with 1 Axes>"
      ]
     },
     "metadata": {},
     "output_type": "display_data"
    }
   ],
   "source": [
    "# Orders counts by status\n",
    "\n",
    "plt.figure(figsize=(10, 5))\n",
    "ax = sns.countplot(data=orders, x =\"order_status\", order=orders[\"order_status\"].value_counts(normalize=True).index, palette=\"pastel\")\n",
    "plt.xticks(rotation=45)\n",
    "plt.yscale(\"log\")\n",
    "plt.title(\"Order Status Distribution\")\n",
    "plt.xlabel(\"Order Status\")\n",
    "plt.ylabel(\"Number of orders\")\n",
    "for p in ax.patches:\n",
    "    ax.annotate(\n",
    "        f\"{int(p.get_height())}\",\n",
    "        (p.get_x() + p.get_width() / 2, p.get_height()),\n",
    "        ha=\"center\",\n",
    "        va=\"bottom\",\n",
    "        fontsize=10,\n",
    "        color=\"black\"\n",
    "    )\n",
    "plt.show()\n",
    "\n"
   ]
  },
  {
   "cell_type": "code",
   "execution_count": 33,
   "id": "74001847",
   "metadata": {},
   "outputs": [
    {
     "data": {
      "image/png": "[encoded data removed]",
      "text/plain": [
       "<Figure size 1200x600 with 1 Axes>"
      ]
     },
     "metadata": {},
     "output_type": "display_data"
    }
   ],
   "source": [
    "# Orders over time\n",
    "orders[\"order_purchase_month\"] = orders[\"order_purchase_timestamp\"].dt.to_period(\n",
    "    \"M\")\n",
    "monthly_orders = orders.groupby(\"order_purchase_month\")[\"order_id\"].count()\n",
    "plt.figure(figsize=(12, 6))\n",
    "plt.plot(monthly_orders.index.astype(\n",
    "    str), monthly_orders.values, marker='o', linestyle=\"-\", color=\"royalblue\")\n",
    "plt.title(\"Order Trends Over Time\")\n",
    "plt.xlabel(\"Month\")\n",
    "plt.ylabel(\"Number of Orders\")\n",
    "plt.xticks(rotation=45)\n",
    "plt.grid(True)\n",
    "plt.show()"
   ]
  },
  {
   "cell_type": "markdown",
   "id": "53dc6521",
   "metadata": {},
   "source": [
    "There was a growth trend in the number of orders from December 2016 to November 2017, \n",
    "followed by a stabilization period from December 2017 to August 2018. However, there was \n",
    "a sharp drop in orders from August to October. It's important to check whether there is \n",
    "data available for the final months or if the dataset simply ends there."
   ]
  },
  {
   "cell_type": "code",
   "execution_count": 34,
   "id": "c68998db",
   "metadata": {},
   "outputs": [
    {
     "name": "stdout",
     "output_type": "stream",
     "text": [
      "order_purchase_month\n",
      "2016-09       2\n",
      "2016-10     273\n",
      "2016-12       1\n",
      "2017-01     766\n",
      "2017-02    1674\n",
      "2017-03    2591\n",
      "2017-04    2352\n",
      "2017-05    3601\n",
      "2017-06    3182\n",
      "2017-07    3928\n",
      "2017-08    4234\n",
      "2017-09    4188\n",
      "2017-10    4511\n",
      "2017-11    7361\n",
      "2017-12    5570\n",
      "2018-01    7143\n",
      "2018-02    6612\n",
      "2018-03    7136\n",
      "2018-04    6897\n",
      "2018-05    6803\n",
      "2018-06    6142\n",
      "2018-07    6219\n",
      "2018-08    6398\n",
      "2018-09       1\n",
      "Freq: M, Name: order_id, dtype: int64\n"
     ]
    }
   ],
   "source": [
    "# Checking if data exists for the last months\n",
    "print(monthly_orders.tail(30))  # Last 10 months available"
   ]
  },
  {
   "cell_type": "markdown",
   "id": "3e8530cd",
   "metadata": {},
   "source": [
    "There were orders, but the quantity is well below normal, indicating that the dataset is likely incomplete for the final and initial months."
   ]
  },
  {
   "cell_type": "markdown",
   "id": "87390516",
   "metadata": {},
   "source": [
    "### Data Note"
   ]
  },
  {
   "cell_type": "markdown",
   "id": "6d0590dc",
   "metadata": {},
   "source": [
    "The charts indicate that there is a normal pattern in the data, except for the months with less than 500 orders, like: 2016-09, 2016-10, 2016-12, 2018-09 and 2018-10. The likely reason is that the data is incomplete. Therefore, the chosen approach to prevent this discrepancy in order volume from affecting further analyses and models will be remove the rows related to those months."
   ]
  },
  {
   "cell_type": "markdown",
   "id": "40627759",
   "metadata": {},
   "source": [
    "#### REMOVING ROWS RELATED TO MONTHS WITH DATA DISCREPANCIES"
   ]
  },
  {
   "cell_type": "code",
   "execution_count": 35,
   "id": "77136927",
   "metadata": {},
   "outputs": [],
   "source": [
    "# Call the function to apply the filter and save the files\n",
    "sys.path.append(os.path.abspath(os.path.join(os.getcwd(), \"..\", \"src\")))\n",
    "from data_cleaning import olist_filter_and_save\n",
    "\n",
    "dfs_filtered = olist_filter_and_save(orders, order_items, payments, customer, products, sellers)\n"
   ]
  },
  {
   "cell_type": "code",
   "execution_count": 36,
   "id": "f9ae885c",
   "metadata": {},
   "outputs": [],
   "source": [
    "#Accessing the filtered DataFrames from the 'dfs_filtered' dictionary\n",
    "orders_filtered = dfs_filtered['orders'].copy()\n",
    "order_items_filtered = dfs_filtered['order_items'].copy()\n",
    "payments_filtered = dfs_filtered['payments'].copy()\n",
    "customer_filtered = dfs_filtered['customer'].copy()\n",
    "products_filtered = dfs_filtered['products'].copy()\n",
    "sellers_filtered = dfs_filtered['sellers'].copy()"
   ]
  },
  {
   "cell_type": "code",
   "execution_count": 37,
   "id": "d44d3a2d",
   "metadata": {},
   "outputs": [
    {
     "data": {
      "image/png": "[encoded data removed]",
      "text/plain": [
       "<Figure size 1200x600 with 1 Axes>"
      ]
     },
     "metadata": {},
     "output_type": "display_data"
    }
   ],
   "source": [
    "orders_filtered[\"order_purchase_month\"] = orders_filtered[\"order_purchase_timestamp\"].dt.to_period(\n",
    "    \"M\")\n",
    "monthly_orders = orders_filtered.groupby(\"order_purchase_month\")[\"order_id\"].count()\n",
    "plt.figure(figsize=(12, 6))\n",
    "plt.plot(monthly_orders.index.astype(\n",
    "    str), monthly_orders.values, marker='o', linestyle=\"-\", color=\"royalblue\")\n",
    "plt.title(\"Order Trends Over Time\")\n",
    "plt.xlabel(\"Month\")\n",
    "plt.ylabel(\"Number of Orders\")\n",
    "plt.xticks(rotation=45)\n",
    "plt.grid(True)\n",
    "plt.show()"
   ]
  },
  {
   "cell_type": "markdown",
   "id": "693a1702",
   "metadata": {},
   "source": [
    "# 4. Feature Engineering\n"
   ]
  },
  {
   "cell_type": "markdown",
   "id": "69563e37",
   "metadata": {},
   "source": [
    "In this project, I will perform an in-depth data analysis on a Brazilian marketplace dataset to predict whether an order will be delivered late or not.\n",
    "I will start by integrating relevant datasets and creating new features that may influence delivery delays.\n",
    "\n"
   ]
  },
  {
   "cell_type": "markdown",
   "id": "ea75a470",
   "metadata": {},
   "source": [
    "### Target Variable\n",
    "The target variable will be a binary feature \"is_late\", the variable based on the order delivered customer date and order estimated delivery date, indicate if a order was delivered late."
   ]
  },
  {
   "cell_type": "code",
   "execution_count": null,
   "id": "4e72b2df",
   "metadata": {},
   "outputs": [],
   "source": [
    "# Was it delivered late?\n",
    "# Binary feature (0 = on time or early, 1 = late)\n",
    "orders_filtered[\"is_late\"] = (\n",
    "    orders_filtered[\"order_delivered_customer_date\"] > orders_filtered[\"order_estimated_delivery_date\"]\n",
    ").astype(int)"
   ]
  },
  {
   "cell_type": "markdown",
   "id": "31886dd2",
   "metadata": {},
   "source": [
    "#### Merging the datasets"
   ]
  },
  {
   "cell_type": "code",
   "execution_count": null,
   "id": "86a4c6c2",
   "metadata": {},
   "outputs": [],
   "source": [
    "# Merging the datasets\n",
    "df_merged = orders_filtered.merge(order_items_filtered, on='order_id', how='left')\n",
    "df_merged  = df_merged.merge(customer_filtered, on='customer_id', how='left')\n",
    "df_merged  = df_merged.merge(products_filtered, on='product_id', how='left')\n",
    "df_merged  = df_merged.merge(payments_filtered, on='order_id', how='left')\n",
    "df_merged  = df_merged.merge(sellers_filtered, on='seller_id', how='left')"
   ]
  },
  {
   "cell_type": "markdown",
   "id": "cc88ced6",
   "metadata": {},
   "source": [
    "#### Product Volume Feature\n",
    "It will be create a feature that represents the product volume. The volume could affect the logistic transportantion, leading possibles order delays."
   ]
  },
  {
   "cell_type": "code",
   "execution_count": null,
   "id": "d23c984b",
   "metadata": {},
   "outputs": [],
   "source": [
    "# Product Volume\n",
    "df_merged['product_volume'] = df_merged['product_length_cm']*df_merged['product_height_cm']*df_merged['product_width_cm']"
   ]
  },
  {
   "cell_type": "markdown",
   "id": "ed288c3f",
   "metadata": {},
   "source": [
    "#### Distance between customer and seller\n",
    "The distance between customer and seller could affect the time of transportantion, leading possibles order delays."
   ]
  },
  {
   "cell_type": "code",
   "execution_count": null,
   "id": "af53aef3",
   "metadata": {},
   "outputs": [],
   "source": [
    "# Group by zip code prefix and calculate the coordinates overall mean.\n",
    "geo_mean = geolocation.groupby('geolocation_zip_code_prefix', as_index = False).agg({\n",
    "        'geolocation_lat': 'mean',\n",
    "        'geolocation_lng': 'mean'\n",
    "})"
   ]
  },
  {
   "cell_type": "code",
   "execution_count": null,
   "id": "db78f093",
   "metadata": {},
   "outputs": [],
   "source": [
    "# Rename from geolocation lat and long to customer lat and long\n",
    "customer_geo = geo_mean.rename(columns={\n",
    "    'geolocation_zip_code_prefix': 'customer_zip_code_prefix',\n",
    "    'geolocation_lat': 'customer_lat',\n",
    "    'geolocation_lng': 'customer_lng'\n",
    "})"
   ]
  },
  {
   "cell_type": "code",
   "execution_count": null,
   "id": "d6e74c4a",
   "metadata": {},
   "outputs": [],
   "source": [
    "# Rename from geolocation lat and long to seller lat and long\n",
    "seller_geo = geo_mean.rename(columns={\n",
    "    'geolocation_zip_code_prefix': 'seller_zip_code_prefix',\n",
    "    'geolocation_lat': 'seller_lat',\n",
    "    'geolocation_lng': 'seller_lng'\n",
    "})"
   ]
  },
  {
   "cell_type": "code",
   "execution_count": null,
   "id": "d6762811",
   "metadata": {},
   "outputs": [],
   "source": [
    "# Merge the datagrame customer_geo and seller_geo with df_merged\n",
    "df_merged = df_merged.merge(customer_geo, on='customer_zip_code_prefix', how='left')\n",
    "df_merged = df_merged.merge(seller_geo, on='seller_zip_code_prefix', how='left')"
   ]
  },
  {
   "cell_type": "code",
   "execution_count": null,
   "id": "8dc85cbb",
   "metadata": {},
   "outputs": [],
   "source": [
    "# Euclidian distance between customer and seller\n",
    "df_merged['distance_seller_customer'] = np.sqrt(\n",
    "    (df_merged['customer_lat'] - df_merged['seller_lat'])**2 +\n",
    "    (df_merged['customer_lng'] - df_merged['seller_lng'])**2\n",
    ")"
   ]
  },
  {
   "cell_type": "code",
   "execution_count": null,
   "id": "077140c7",
   "metadata": {},
   "outputs": [],
   "source": [
    "# Describe the distribution\n",
    "df_merged['distance_seller_customer'].describe()"
   ]
  },
  {
   "cell_type": "markdown",
   "id": "76c50df8",
   "metadata": {},
   "source": [
    "##### Shipping Distance: Outlier Detection and Treatment\n",
    "Shipping distance plays a crucial role in logistics and delivery performance. However, extreme distances can skew the analysis and influence model training disproportionately. Therefore, before proceeding, it is important to evaluate the presence of outliers in the distance_seller_customer feature"
   ]
  },
  {
   "cell_type": "code",
   "execution_count": null,
   "id": "1554799c",
   "metadata": {},
   "outputs": [],
   "source": [
    "# Calculating IQR\n",
    "Q1 = df_merged['distance_seller_customer'].quantile(0.25)\n",
    "Q3 = df_merged['distance_seller_customer'].quantile(0.75)\n",
    "IQR = Q3 - Q1\n",
    "\n",
    "# Defining the outlier threshold\n",
    "lower_bound = Q1 - 1.5 * IQR\n",
    "print(f'Lower_bond: {lower_bound}')\n",
    "upper_bound = Q3 + 1.5 * IQR\n",
    "print(f'upper_bond: {upper_bound}')\n",
    "\n",
    "# Total number of records\n",
    "total = df_merged.shape[0]\n",
    "\n",
    "# Identifying outliers\n",
    "outliers = df_merged[(df_merged['distance_seller_customer'] < lower_bound) | \n",
    "                     (df_merged['distance_seller_customer'] > upper_bound)]\n",
    "\n",
    "print(f\"Number of outliers: {outliers.shape[0]}\")\n",
    "print(f\"Percentage of dataset: {outliers.shape[0] / total * 100:.2f}%\")\n",
    "\n"
   ]
  },
  {
   "cell_type": "markdown",
   "id": "41986503",
   "metadata": {},
   "source": [
    "Categorizing Shipping Distance\n",
    "\n",
    "To simplify analysis and uncover non-linear patterns, we transformed the continuous distance between sellers and customers into categorical ranges. The distance distribution is highly skewed, with most deliveries occurring within 10 km.\n",
    "\n",
    "We defined the following categories based on domain understanding and distribution percentiles:\n",
    "\n",
    "- `short` (0–10 km): Local deliveries (majority of cases).\n",
    "- `medium` (10–20 km): Regional deliveries.\n",
    "- `long` (20 – 50 km): Intermunicipal or short inter-state deliveries.\n",
    "- `very_long` (50+ km): Long-distance deliveries potentially more prone to delay.\n",
    "\n",
    "This transformation allows for clearer visual comparisons and may benefit model interpretability."
   ]
  },
  {
   "cell_type": "code",
   "execution_count": null,
   "id": "c8848754",
   "metadata": {},
   "outputs": [],
   "source": [
    "# Transform the distance between customer and seller categorical variable.\n",
    "df_merged['distance_category'] = pd.cut(df_merged['distance_seller_customer'], bins=[0, 10, 20, 50, float('inf')], labels=['short', 'medium', 'long', 'very_long'])\n"
   ]
  },
  {
   "cell_type": "code",
   "execution_count": null,
   "id": "ed68a077",
   "metadata": {},
   "outputs": [],
   "source": [
    "sns.countplot(x='distance_category', data=df_merged)\n",
    "plt.title('Delay Rate by Distance Category')\n",
    "plt.ylabel('Delay Rate')\n",
    "plt.xlabel('Distance Category')\n",
    "plt.show()\n",
    "\n",
    "print(df_merged['distance_category'].value_counts(normalize=True))"
   ]
  },
  {
   "cell_type": "markdown",
   "id": "b79eff00",
   "metadata": {},
   "source": [
    "#### Estimated time delivery (days)\n",
    "If the estimated time delivery doesn't fit with the necessary time to delivery the order, could lead to an orders delays."
   ]
  },
  {
   "cell_type": "code",
   "execution_count": null,
   "id": "88bd34d8",
   "metadata": {},
   "outputs": [],
   "source": [
    "df_merged['estimated_time'] = (df_merged['order_estimated_delivery_date'] - df_merged['order_approved_at']).dt.days\n",
    "df_merged['estimated_time'] = df_merged['estimated_time'].fillna(-1).astype(int)\n"
   ]
  },
  {
   "cell_type": "markdown",
   "id": "5bd8fc39",
   "metadata": {},
   "source": [
    "# 5. Exploratory Data Analysis"
   ]
  },
  {
   "cell_type": "markdown",
   "id": "b3d776c4",
   "metadata": {},
   "source": [
    "The focus of this analysis is to explore and analyze the delivery delays of orders in a Brazilian e-commerce marketplace. We will identify patterns related to late deliveries, look for factors that could influence delays."
   ]
  },
  {
   "cell_type": "markdown",
   "id": "63cba827",
   "metadata": {},
   "source": [
    "#### Categorical features\n",
    "In this section, we analyze the categorical features in our dataset to understand their distribution and relationship with the target variable (e.g., delivery delay).\n",
    "\n",
    "Key goals:\n",
    "- Examine the frequency distribution of each categorical variable.\n",
    "- Identify categories with very low or high frequency.\n",
    "- Explore possible relationships between categories and delivery outcome"
   ]
  },
  {
   "cell_type": "code",
   "execution_count": null,
   "id": "be2cfb95",
   "metadata": {},
   "outputs": [],
   "source": [
    "# The dataset merged columns    \n",
    "df_merged.columns.unique()"
   ]
  },
  {
   "cell_type": "code",
   "execution_count": null,
   "id": "cf656675",
   "metadata": {},
   "outputs": [],
   "source": [
    "# create categorical features dataframe\n",
    "df_cat = df_merged[[\n",
    "    'order_purchase_month',\n",
    "    'customer_state',\n",
    "    'seller_state',\n",
    "    'distance_category',\n",
    "    'is_late'\n",
    "]]"
   ]
  },
  {
   "cell_type": "markdown",
   "id": "870c6be9",
   "metadata": {},
   "source": [
    "##### Checking the target variable: \"is_late\""
   ]
  },
  {
   "cell_type": "code",
   "execution_count": null,
   "id": "74428959",
   "metadata": {},
   "outputs": [],
   "source": [
    "# Checking the target variable: \"is_late\" as proportions\n",
    "sns.countplot(data=df_cat, x='is_late')\n",
    "plt.title('Target Distribution: On-time vs Late Deliveries')\n",
    "plt.xlabel('Is Late (0 = On-time, 1 = Late)')\n",
    "plt.ylabel('Number of Orders')\n",
    "plt.show()\n",
    "\n",
    "print(df_cat['is_late'].value_counts(normalize=True))\n"
   ]
  },
  {
   "cell_type": "markdown",
   "id": "505dc7d8",
   "metadata": {},
   "source": [
    "Proportion of Late Deliveries\n",
    "\n",
    "This bar plot shows the proportion of orders that were delivered on time (`is_late = 0`) versus those delivered late (`is_late = 1`). This visualization is important to identify class imbalance before modeling"
   ]
  },
  {
   "cell_type": "markdown",
   "id": "0ed2317e",
   "metadata": {},
   "source": [
    "##### Monthly Delivery Delay Rate\n",
    "\n",
    "To better understand delivery performance over time, we analyzed the proportion of late deliveries grouped by order month. The line chart below illustrates how frequently orders were delivered late on a monthly basis."
   ]
  },
  {
   "cell_type": "code",
   "execution_count": null,
   "id": "3cb3c9c7",
   "metadata": {},
   "outputs": [],
   "source": [
    "# Plot Monthly delivery delay rate\n",
    "monthly_delay_rate = df_merged.groupby('order_purchase_month')['is_late'].mean()\n",
    "monthly_delay_rate.plot(marker='o', figsize=(10,8))\n",
    "plt.title('Monthly Delivery Delay Rate')\n",
    "plt.ylabel('Proportion of Late Deliveries')\n",
    "plt.xlabel('Order Month')\n",
    "plt.xticks(rotation=45)\n",
    "plt.grid()\n",
    "plt.show()\n"
   ]
  },
  {
   "cell_type": "markdown",
   "id": "066430a7",
   "metadata": {},
   "source": [
    "From the chart, we can observe the following patterns:\n",
    "\n",
    "Low delay rates in early 2017, with proportions typically under 5%.\n",
    "\n",
    "A noticeable increase starting in late 2017, with the peak delay rate occurring around February 2018, where 20% of the orders were late.\n",
    "\n",
    "After the peak, there is high volatility in delay rates, with fluctuations between 1% and 15%, suggesting that delivery punctuality was inconsistent in mid to late 2018."
   ]
  },
  {
   "cell_type": "markdown",
   "id": "3af6dcf2",
   "metadata": {},
   "source": [
    "##### Outlier Detection"
   ]
  },
  {
   "cell_type": "code",
   "execution_count": null,
   "id": "1bfd478d",
   "metadata": {},
   "outputs": [],
   "source": [
    "# Calculate monthly late delivery rate\n",
    "monthly_delay_rate = df_cat.groupby('order_purchase_month')['is_late'].mean()\n",
    "\n",
    "# Describe the distribution\n",
    "delay_stats = monthly_delay_rate.describe()\n",
    "print(delay_stats)\n"
   ]
  },
  {
   "cell_type": "code",
   "execution_count": null,
   "id": "0daae5b7",
   "metadata": {},
   "outputs": [],
   "source": [
    "# Calculate IQR (Interquartile Range)\n",
    "Q1 = monthly_delay_rate.quantile(0.25)\n",
    "Q3 = monthly_delay_rate.quantile(0.75)\n",
    "IQR = Q3 - Q1\n",
    "\n",
    "# Define bounds for outliers\n",
    "lower_bound = Q1 - 1.5 * IQR\n",
    "upper_bound = Q3 + 1.5 * IQR\n",
    "\n",
    "# Check if February 2018 is an outlier\n",
    "outliers = monthly_delay_rate[(monthly_delay_rate < lower_bound) | (monthly_delay_rate > upper_bound)]\n",
    "\n",
    "# Display outlier months\n",
    "print(\"Outlier months based on delivery delay rate:\\n\", outliers)"
   ]
  },
  {
   "cell_type": "markdown",
   "id": "877cb124",
   "metadata": {},
   "source": [
    "February and March 2018 stands out as a statistical outlier, with a delivery delay rate significantly above the interquartile range. This suggests that delivery performance in that month was abnormally poor, potentially due to external disruptions such as logistics overloads, supply chain issues, or seasonal events like Carnival in Brazil."
   ]
  },
  {
   "cell_type": "code",
   "execution_count": null,
   "id": "f536818a",
   "metadata": {},
   "outputs": [],
   "source": [
    "# Get March 2018 rate\n",
    "mar_rate = monthly_delay_rate['2018-03']  # use correct datetime format or index used\n",
    "\n",
    "# Get February 2018 rate\n",
    "fer_rate = monthly_delay_rate['2018-02']  # use correct datetime format or index used\n",
    "\n",
    "# Print comparison\n",
    "print(f\"March 2018 Delay Rate: {mar_rate:.2%}\")\n",
    "print(f\"february 2018 Delay Rate: {fer_rate:.2%}\")\n",
    "print(f\"Upper bound (outlier threshold): {upper_bound:.2%}\")\n",
    "print(f\"Mean monthly delay rate: {delay_stats['mean']:.2%}\")"
   ]
  },
  {
   "cell_type": "markdown",
   "id": "73cef79f",
   "metadata": {},
   "source": [
    "Although February and March 2018 was identified as a statistical outlier due to an unusually high delivery delay rate, it was intentionally retained in the dataset.\n",
    "\n",
    "This decision was made to enhance the robustness of the predictive model. Real-world delivery systems are subject to unexpected disruptions such as holidays, strikes, weather events, or sudden demand spikes. By including this atypical month, the model is exposed to more realistic variations, making it better prepared to generalize and handle similar anomalies in future predictions.\n",
    "\n",
    "Removing outliers can lead to cleaner models but may reduce their ability to capture critical edge cases. In this case, preserving the outlier helps build a model that is not only accurate under normal conditions but also resilient in extreme situations."
   ]
  },
  {
   "cell_type": "markdown",
   "id": "0c92fba0",
   "metadata": {},
   "source": [
    "#### Delivery Delay vs. Shipping Distance\n",
    "\n",
    "In this section, we explore how the geographical distance between sellers and customers influences delivery delays.\n",
    "\n",
    "Intuitively, longer shipping distances may lead to increased delivery times and a higher probability of delays, especially in a large country like Brazil where logistics vary significantly across regions.\n",
    "\n",
    "By analyzing this relationship, we aim to uncover whether distance is a significant driver of late deliveries, and if it should be considered a key feature in our predictive model."
   ]
  },
  {
   "cell_type": "code",
   "execution_count": null,
   "id": "e7aa6edc",
   "metadata": {},
   "outputs": [],
   "source": [
    "# Plotting delay rate by distance category\n",
    "sns.barplot(x='distance_category', y='is_late', data=df_cat)\n",
    "plt.title('Delay Rate by Distance Category')\n",
    "plt.ylabel('Delay Rate')\n",
    "plt.xlabel('Distance Category')\n",
    "plt.show()\n"
   ]
  },
  {
   "cell_type": "code",
   "execution_count": null,
   "id": "fedf976d",
   "metadata": {},
   "outputs": [],
   "source": [
    "df_merged['distance_category'].value_counts()\n"
   ]
  },
  {
   "cell_type": "markdown",
   "id": "7b9ead21",
   "metadata": {},
   "source": [
    "Removing Extremely Rare Distance Category\n",
    "\n",
    "During the analysis of delay rates by distance category, we identified that the very_long category contains only one observation.\n",
    "Keeping this outlier category would introduce a misleading impression of 100% delay rate, which lacks statistical reliability.\n",
    "Therefore, to preserve the consistency and robustness of the analysis, we removed this record and excluded the category."
   ]
  },
  {
   "cell_type": "code",
   "execution_count": null,
   "id": "7910bc45",
   "metadata": {},
   "outputs": [],
   "source": [
    "# Removing distance category very long\n",
    "df_cat = df_cat[df_cat['distance_category'] != 'very_long']\n",
    "df_merged = df_merged[df_merged['distance_category'] != 'very_long']\n",
    "df_cat['distance_category'] = df_cat['distance_category'].astype('category')\n",
    "df_cat['distance_category'] = df_cat['distance_category'].cat.remove_unused_categories()\n"
   ]
  },
  {
   "cell_type": "code",
   "execution_count": null,
   "id": "3f9db535",
   "metadata": {},
   "outputs": [],
   "source": [
    "# Plotting delay rate by distance category\n",
    "sns.barplot(x='distance_category', y='is_late', data=df_cat)\n",
    "plt.title('Delay Rate by Distance Category')\n",
    "plt.ylabel('Delay Rate')\n",
    "plt.xlabel('Distance Category')\n",
    "plt.show()"
   ]
  },
  {
   "cell_type": "markdown",
   "id": "f8d1905f",
   "metadata": {},
   "source": [
    "The chart shows the delay rate for three distance categories: short, medium, and long.\n",
    "\n",
    "Key Points:\n",
    "- Short distances have the lowest delay rate (~7%).\n",
    "- Medium distances show a moderate increase (~11%).\n",
    "- Long distances have the highest delay rate (~13.7%).\n",
    "\n",
    "Conclusion:\n",
    "There is a clear pattern: as distance increases, so does the delay rate. This makes sense, as longer distances usually involve more risks and logistics challenges.\n"
   ]
  },
  {
   "cell_type": "markdown",
   "id": "23e49b1c",
   "metadata": {},
   "source": [
    "#### Numeric Features\n",
    "In this section, we explore the numerical variables in the dataset to better understand their distribution, identify outliers, and check for patterns that might affect delivery delays. Basic statistics and visualizations will help us prepare the data for modeling.\n",
    "\n",
    "\n"
   ]
  },
  {
   "cell_type": "code",
   "execution_count": null,
   "id": "39d51a04",
   "metadata": {},
   "outputs": [],
   "source": [
    "# selecting numeric features\n",
    "df_numeric = df_merged[['product_volume',\n",
    "                        'product_weight_g',\n",
    "                        'freight_value',\n",
    "                        'payment_value',\n",
    "                        'price',\n",
    "                        'estimated_time'\n",
    "]]"
   ]
  },
  {
   "cell_type": "code",
   "execution_count": null,
   "id": "0d7fc92e",
   "metadata": {},
   "outputs": [],
   "source": [
    "# Checking correlation between numeric features\n",
    "corr = df_numeric.select_dtypes(include='number').corr()\n",
    "plt.figure(figsize=(10,8))\n",
    "sns.heatmap(corr, annot=True, cmap='coolwarm')\n",
    "plt.title('Correlation Matrix')\n",
    "plt.show()"
   ]
  },
  {
   "cell_type": "code",
   "execution_count": null,
   "id": "cd646762",
   "metadata": {},
   "outputs": [],
   "source": [
    "from statsmodels.stats.outliers_influence import variance_inflation_factor\n",
    "import pandas as pd\n",
    "\n",
    "# Calculating Variance Inflation Factor (VIF) to detect multicollinearity\n",
    "# VIF > 5 suggests moderate correlation; VIF > 10 indicates high multicollinearity\n",
    "\n",
    "# Selecting only numerical features\n",
    "df_numeric = df_merged[['product_volume',\n",
    "                        'product_weight_g',\n",
    "                        'freight_value',\n",
    "                        'payment_value',\n",
    "                        'price',\n",
    "                        'estimated_time']]\n",
    "\n",
    "# Creating a DataFrame to store VIF values\n",
    "vif_data = pd.DataFrame()\n",
    "vif_data[\"Feature\"] = df_numeric.columns\n",
    "vif_data[\"VIF\"] = [variance_inflation_factor(df_numeric.values, i)\n",
    "                   for i in range(df_numeric.shape[1])]\n",
    "\n",
    "display(vif_data)"
   ]
  },
  {
   "cell_type": "markdown",
   "id": "458cd632",
   "metadata": {},
   "source": [
    "Multicollinearity Check using VIF\n",
    "\n",
    "We calculated the Variance Inflation Factor (VIF) to assess multicollinearity among the numerical features. All VIF values are below 5, which indicates no strong multicollinearity is present. Therefore, all variables can be safely used in further modeling or analysis."
   ]
  },
  {
   "cell_type": "markdown",
   "id": "a69aad5c",
   "metadata": {},
   "source": [
    "##### Box Plot visualization\n",
    "In this step, we create box plots for each numeric variable to visualize their distribution across delivery statuses (on-time vs. late). These plots help us compare how continuous features like product volume, freight value, and estimated delivery time differ between on-time and delayed deliveries, highlighting potential factors associated with delivery performance."
   ]
  },
  {
   "cell_type": "code",
   "execution_count": null,
   "id": "bc8c460a",
   "metadata": {},
   "outputs": [],
   "source": [
    "log_scale_vars = ['freight_value', 'payment_value', 'price']\n",
    "\n",
    "for col in df_numeric.columns:\n",
    "    # Escolher a coluna a ser plotada\n",
    "    plot_col = f'{col}_log' if col in log_scale_vars else col\n",
    "    ylabel = f'Log(1 + {col.replace(\"_\", \" \").title()})' if col in log_scale_vars else col.replace(\"_\", \" \").title()\n",
    "\n",
    "    # Criar nova coluna log apenas se necessário\n",
    "    if col in log_scale_vars and f'{col}_log' not in df_merged.columns:\n",
    "        df_merged[plot_col] = np.log1p(df_merged[col])\n",
    "\n",
    "    # Criar gráfico\n",
    "    plt.figure(figsize=(8, 6))\n",
    "    sns.boxplot(x='is_late', y=plot_col, data=df_merged, palette='Set2')\n",
    "    plt.title(f'{ylabel} by Delivery Status')\n",
    "    plt.xlabel('Is Late')\n",
    "    plt.ylabel(ylabel)\n",
    "\n",
    "    # Calcular e exibir estatísticas\n",
    "    stats = df_merged.groupby('is_late')[col].agg(['mean', 'median']).round(2)\n",
    "    for idx in stats.index:\n",
    "        plt.text(idx, df_merged[plot_col].max()*0.9,\n",
    "                 f\"Mean: {stats.loc[idx, 'mean']}\\nMedian: {stats.loc[idx, 'median']}\",\n",
    "                 ha='center', fontsize=9, bbox=dict(facecolor='white', alpha=0.6))\n",
    "\n",
    "    plt.tight_layout()\n",
    "    plt.show()\n"
   ]
  },
  {
   "cell_type": "markdown",
   "id": "db9b50d1",
   "metadata": {},
   "source": [
    "##### Outlier Handling and Feature Evaluation Strategy\n",
    "\n",
    "During the exploratory analysis, we observed a significant number of outliers in several numerical features such as `freight_value`, `payment_value`, and `price`. Interestingly, although the average and median values of these features are quite similar between delayed and non-delayed deliveries, the presence of extreme values raises important considerations.\n",
    "\n",
    "It is crucial to emphasize that **mean and median alone are not sufficient criteria** for determining whether a feature is informative for predictive modeling. Machine learning models, particularly tree-based algorithms such as Random Forests or Gradient Boosted Trees, are capable of learning from complex, non-linear patterns in the data—including **relationships involving rare or extreme values**. Therefore, the existence of outliers could signal meaningful edge cases, such as very high freight costs or long delivery distances that are more likely to result in delays.\n",
    "\n",
    "Rather than discarding or aggressively transforming these outliers at this stage, we choose to retain them. This decision allows the model to **learn from the natural distribution of the data**, including any extreme behaviors that may correlate with the target variable.\n",
    "\n",
    "To rigorously evaluate the relevance of each feature, we will later employ a **stratified k-fold cross-validation strategy**. This approach ensures that each fold preserves the proportion of delayed and non-delayed deliveries, which is particularly important given the class imbalance. Using this framework, we will extract **feature importance scores** from models such as Random Forests to identify which variables contribute most to the prediction task.\n",
    "\n",
    "By deferring feature selection to this model-based evaluation, we aim to capture patterns and interactions that are not evident from summary statistics alone.\n"
   ]
  },
  {
   "cell_type": "markdown",
   "id": "854f7f35",
   "metadata": {},
   "source": [
    "### Strategy for Preliminary Modeling and Feature Evaluation\n",
    "\n",
    "Our dataset consists of both numerical (`df_numeric`) and categorical (`df_cat`) features. While the numerical features are ready for modeling, the categorical features still require preprocessing—such as encoding into binary variables using techniques like One-Hot Encoding.\n",
    "\n",
    "To assess the potential predictive power of the entire dataset, we propose the following two-step modeling strategy:\n",
    "\n",
    "1. **Baseline Model (Preliminary):**  \n",
    "   We will first train a baseline model using both numerical and raw categorical features (after minimal encoding), without performing feature selection. This will serve as a reference point to understand how the model behaves with all available information, including outliers and potentially irrelevant variables.\n",
    "\n",
    "2. **Model with Feature Importance and Preprocessing:**  \n",
    "   In the second step, we will build a refined model pipeline where categorical variables are properly encoded, and we use `StratifiedKFold` cross-validation to evaluate the model performance. Here, feature importance scores will help us identify and possibly drop uninformative or redundant variables. By comparing the performance metrics of this model against the baseline, we can assess the value of preprocessing and feature selection.\n",
    "\n",
    "Since our target variable (`is_late`) is **highly imbalanced**, both models will be evaluated using metrics that account for this imbalance—such as **Recall, F1-score, and ROC AUC**. We will also consider techniques like **class weighting** or **resampling** in the pipeline if needed.\n",
    "\n",
    "This strategy enables a structured and data-driven approach to understanding how each feature contributes to model performance.\n"
   ]
  },
  {
   "cell_type": "markdown",
   "id": "12bed118",
   "metadata": {},
   "source": [
    "#### Baseline Model\n",
    "To begin, we apply one-hot encoding to transform the categorical variables into a machine-readable format. This is a lightweight approach, enough to allow us to build a preliminary model. The goal is to establish a performance baseline before we move into more complex feature engineering."
   ]
  },
  {
   "cell_type": "code",
   "execution_count": null,
   "id": "0f269d9b",
   "metadata": {},
   "outputs": [],
   "source": [
    "# Pré processing of categorical features\n",
    "# Combining numerical and categorical features after minimal preprocessing\n",
    "\n",
    "# Separate target before encoding\n",
    "y = df_cat['is_late']  # Store target variable\n",
    "df_cat = df_cat.drop(columns='is_late')  # Remove it from categorical features\n",
    "\n",
    "# Convert order_purchase_month from period to date\n",
    "df_cat['order_purchase_month'] = df_cat['order_purchase_month'].dt.month\n",
    "\n",
    "# get dummies for categorical features\n",
    "df_cat_encoded = pd.get_dummies(df_cat, drop_first=True)\n",
    "\n",
    "# Combine numerical and categorical features\n",
    "X = pd.concat([df_numeric, df_cat_encoded], axis=1)\n"
   ]
  },
  {
   "cell_type": "markdown",
   "id": "cea9d001",
   "metadata": {},
   "source": [
    "Baseline model training with StratifiedKFold\n",
    "\n",
    "We train a Random Forest classifier using 5-fold Stratified Cross-Validation. This technique ensures the distribution of the target class remains balanced across the folds. We also apply `class_weight='balanced'` to address class imbalance in our target (`is_late`). This baseline model provides reference metrics for comparison with future models that include feature selection and deeper preprocessing.\n"
   ]
  },
  {
   "cell_type": "code",
   "execution_count": null,
   "id": "b59faea6",
   "metadata": {},
   "outputs": [],
   "source": [
    "# Train a baseline model using StratifiedKFold\n",
    "from sklearn.model_selection import StratifiedKFold, cross_validate\n",
    "from sklearn.ensemble import RandomForestClassifier\n",
    "from sklearn.metrics import make_scorer, accuracy_score, recall_score, f1_score, roc_auc_score, precision_score\n",
    "\n",
    "# Initialize model with class weights to handle imbalance\n",
    "model = RandomForestClassifier(random_state=42, max_depth = 5, class_weight='balanced')\n",
    "\n",
    "# Define cross-validation strategy\n",
    "cv = StratifiedKFold(n_splits=5, shuffle=True, random_state=42)\n",
    "\n",
    "# Define scoring metrics\n",
    "scoring = {\n",
    "    'accuracy': make_scorer(accuracy_score),\n",
    "    'precision': make_scorer(precision_score),\n",
    "    'recall': make_scorer(recall_score),\n",
    "    'f1': make_scorer(f1_score),\n",
    "    'roc_auc': make_scorer(roc_auc_score)\n",
    "}\n",
    "\n",
    "# Perform cross-validation\n",
    "results = cross_validate(model, X, y, cv=cv, scoring=scoring, return_train_score=False)\n",
    "\n",
    "# Display mean results\n",
    "for metric in scoring.keys():\n",
    "    print(f\"{metric.title()}: {results[f'test_{metric}'].mean():.4f}\")"
   ]
  },
  {
   "cell_type": "markdown",
   "id": "55b1f736",
   "metadata": {},
   "source": [
    "##### Feature selection\n",
    "\n",
    "After training the model, we examine the importance scores of each feature. This helps us identify variables that contribute significantly to the model’s decision-making process. Variables with very low importance could potentially be removed in the next iteration to reduce dimensionality and improve generalization.\n",
    "\n",
    "To address this, we apply Recursive Feature Elimination with Cross-Validation (RFECV), a technique that recursively removes less important features and evaluates model performance using cross-validation at each step. This method helps to automatically determine the optimal number of features that contribute the most to the predictive power of the model.\n",
    "\n",
    "By combining feature elimination with cross-validation, RFECV ensures that the selected feature subset maintains strong generalization performance while simplifying the model."
   ]
  },
  {
   "cell_type": "code",
   "execution_count": null,
   "id": "3a2b402c",
   "metadata": {},
   "outputs": [],
   "source": [
    "from sklearn.feature_selection import RFECV\n",
    "# Initialize RFECV with the baseline model\n",
    "rfecv = RFECV(\n",
    "    estimator=model,  # your baseline RandomForestClassifier\n",
    "    step=1,\n",
    "    cv=cv,\n",
    "    scoring=make_scorer(f1_score),\n",
    "    n_jobs=-1\n",
    ")\n",
    "\n",
    "# Fit RFECV to select the most relevant features\n",
    "rfecv.fit(X, y)\n"
   ]
  },
  {
   "cell_type": "code",
   "execution_count": null,
   "id": "1d78a361",
   "metadata": {},
   "outputs": [],
   "source": [
    "# Get the mask of selected features from RFECV\n",
    "selected_features = X.columns[rfecv.support_]\n",
    "\n",
    "# Train the model again using only the selected features\n",
    "model.fit(X[selected_features], y)\n",
    "\n",
    "# Extract feature importances\n",
    "importances = pd.Series(model.feature_importances_, index=selected_features).sort_values(ascending=True)\n",
    "\n",
    "# Plot feature importances\n",
    "plt.figure(figsize=(14, 8))\n",
    "importances.tail(20).plot(kind='barh', color='skyblue')\n",
    "plt.xlabel(\"Feature Importance\")\n",
    "plt.title(\"Feature Importances of Selected Variables (based on Recall)\")\n",
    "plt.grid(True)\n",
    "plt.tight_layout()\n",
    "plt.show()\n",
    "\n"
   ]
  },
  {
   "cell_type": "code",
   "execution_count": null,
   "id": "cd3e4b9e",
   "metadata": {},
   "outputs": [],
   "source": [
    "# Model re-evaluate (cross-validation with seleceted features)\n",
    "\n",
    "# Define multiple scoring metrics\n",
    "scoring = {\n",
    "    'accuracy': make_scorer(accuracy_score),\n",
    "    'recall': make_scorer(recall_score),\n",
    "    'precision': make_scorer(precision_score),\n",
    "    'f1': make_scorer(f1_score),\n",
    "    'roc_auc': make_scorer(roc_auc_score)\n",
    "}\n",
    "\n",
    "# Evaluate using cross-validation\n",
    "results = cross_validate(model, X[selected_features], y, cv=cv, scoring=scoring)\n",
    "\n",
    "# Display the average of each metric\n",
    "for metric in scoring.keys():\n",
    "    print(f\"{metric}: {results['test_' + metric].mean():.4f}\")\n"
   ]
  },
  {
   "cell_type": "markdown",
   "id": "af1dd89c",
   "metadata": {},
   "source": [
    "In this exploratory data analysis, we performed an extensive examination of the dataset to understand its structure, distribution, and relationships among features with respect to the target variable is_late.\n",
    "We Applied techniques such as Recursive Feature Elimination with Cross-Validation (RFECV) to identify the most relevant features.\n",
    "Developed baseline model using Random Forest and validating using Stratified K-Fold.\n",
    "\n",
    "Next Steps:\n",
    "- Model building\n",
    "- Evaluation\n",
    "- Improvement iterations"
   ]
  },
  {
   "cell_type": "code",
   "execution_count": null,
   "id": "92f9976c",
   "metadata": {},
   "outputs": [],
   "source": [
    "# Saving dataset to modeling steps\n",
    "df_model = pd.concat([df_numeric, df_cat, y], axis=1)\n",
    "current_dir = os.getcwd()\n",
    "data_path = os.path.abspath(os.path.join(current_dir, \"..\", \"data\", \"processed\"))\n",
    "file_path = os.path.join(data_path, 'df_model.parquet')\n",
    "df_model.to_parquet(file_path)"
   ]
  }
 ],
 "metadata": {
  "jupytext": {
   "cell_metadata_filter": "-all",
   "main_language": "python",
   "notebook_metadata_filter": "-all"
  },
  "kernelspec": {
   "display_name": "base",
   "language": "python",
   "name": "python3"
  },
  "language_info": {
   "codemirror_mode": {
    "name": "ipython",
    "version": 3
   },
   "file_extension": ".py",
   "mimetype": "text/x-python",
   "name": "python",
   "nbconvert_exporter": "python",
   "pygments_lexer": "ipython3",
   "version": "3.11.3"
  }
 },
 "nbformat": 4,
 "nbformat_minor": 5
}
